{
 "nbformat": 4,
 "nbformat_minor": 2,
 "metadata": {
  "language_info": {
   "name": "python",
   "codemirror_mode": {
    "name": "ipython",
    "version": 3
   },
   "version": "3.7.5-final"
  },
  "orig_nbformat": 2,
  "file_extension": ".py",
  "mimetype": "text/x-python",
  "name": "python",
  "npconvert_exporter": "python",
  "pygments_lexer": "ipython3",
  "version": 3,
  "kernelspec": {
   "name": "python37564bitbaseconda8bac2847f885469ca6b3c89e3b93ccd9",
   "display_name": "Python 3.7.5 64-bit ('base': conda)"
  }
 },
 "cells": [
  {
   "cell_type": "code",
   "execution_count": 5,
   "metadata": {},
   "outputs": [],
   "source": [
    "import pandas as pd \n",
    "from glob import glob"
   ]
  },
  {
   "cell_type": "code",
   "execution_count": 6,
   "metadata": {},
   "outputs": [],
   "source": [
    "names = pd.read_csv('world-country-names.csv')\n",
    "data = pd.read_csv('world-country-named.csv')\n"
   ]
  },
  {
   "cell_type": "code",
   "execution_count": 7,
   "metadata": {},
   "outputs": [
    {
     "data": {
      "text/html": "<div>\n<style scoped>\n    .dataframe tbody tr th:only-of-type {\n        vertical-align: middle;\n    }\n\n    .dataframe tbody tr th {\n        vertical-align: top;\n    }\n\n    .dataframe thead th {\n        text-align: right;\n    }\n</style>\n<table border=\"1\" class=\"dataframe\">\n  <thead>\n    <tr style=\"text-align: right;\">\n      <th></th>\n      <th>id</th>\n      <th>name</th>\n    </tr>\n  </thead>\n  <tbody>\n    <tr>\n      <th>0</th>\n      <td>4</td>\n      <td>Afghanistan</td>\n    </tr>\n    <tr>\n      <th>1</th>\n      <td>8</td>\n      <td>Albania</td>\n    </tr>\n    <tr>\n      <th>2</th>\n      <td>12</td>\n      <td>Algeria</td>\n    </tr>\n    <tr>\n      <th>3</th>\n      <td>24</td>\n      <td>Angola</td>\n    </tr>\n    <tr>\n      <th>4</th>\n      <td>10</td>\n      <td>Antarctica</td>\n    </tr>\n  </tbody>\n</table>\n</div>",
      "text/plain": "   id         name\n0   4  Afghanistan\n1   8      Albania\n2  12      Algeria\n3  24       Angola\n4  10   Antarctica"
     },
     "execution_count": 7,
     "metadata": {},
     "output_type": "execute_result"
    }
   ],
   "source": [
    "names.head()\n"
   ]
  },
  {
   "cell_type": "code",
   "execution_count": 9,
   "metadata": {},
   "outputs": [
    {
     "data": {
      "text/html": "<div>\n<style scoped>\n    .dataframe tbody tr th:only-of-type {\n        vertical-align: middle;\n    }\n\n    .dataframe tbody tr th {\n        vertical-align: top;\n    }\n\n    .dataframe thead th {\n        text-align: right;\n    }\n</style>\n<table border=\"1\" class=\"dataframe\">\n  <thead>\n    <tr style=\"text-align: right;\">\n      <th></th>\n      <th>Unnamed: 0</th>\n      <th>name</th>\n      <th>Happiness_score</th>\n      <th>pf_rol</th>\n      <th>pf_ss</th>\n      <th>pf_movement</th>\n      <th>pf_religion</th>\n      <th>pf_association</th>\n      <th>pf_expression</th>\n      <th>pf_identity</th>\n      <th>ef_government</th>\n      <th>ef_legal</th>\n      <th>ef_money</th>\n      <th>ef_trade</th>\n      <th>ef_regulation</th>\n      <th>id</th>\n      <th>Country Code</th>\n      <th>2017</th>\n      <th>Hours</th>\n    </tr>\n  </thead>\n  <tbody>\n    <tr>\n      <th>0</th>\n      <td>153</td>\n      <td>Afghanistan</td>\n      <td>3.203</td>\n      <td>NaN</td>\n      <td>NaN</td>\n      <td>NaN</td>\n      <td>NaN</td>\n      <td>NaN</td>\n      <td>NaN</td>\n      <td>NaN</td>\n      <td>NaN</td>\n      <td>NaN</td>\n      <td>NaN</td>\n      <td>NaN</td>\n      <td>NaN</td>\n      <td>NaN</td>\n      <td>AFG</td>\n      <td>1.559</td>\n      <td>NaN</td>\n    </tr>\n    <tr>\n      <th>1</th>\n      <td>106</td>\n      <td>Albania</td>\n      <td>4.719</td>\n      <td>5.3</td>\n      <td>9.3</td>\n      <td>10.0</td>\n      <td>9.2</td>\n      <td>10</td>\n      <td>8.6</td>\n      <td>5.8</td>\n      <td>7.5</td>\n      <td>5.1</td>\n      <td>9.6</td>\n      <td>8.3</td>\n      <td>7.8</td>\n      <td>NaN</td>\n      <td>ALB</td>\n      <td>13.750</td>\n      <td>38.837518</td>\n    </tr>\n    <tr>\n      <th>2</th>\n      <td>87</td>\n      <td>Algeria</td>\n      <td>5.211</td>\n      <td>3.8</td>\n      <td>7.8</td>\n      <td>5.8</td>\n      <td>4.9</td>\n      <td>5</td>\n      <td>7.3</td>\n      <td>0.0</td>\n      <td>3.6</td>\n      <td>4.7</td>\n      <td>7.3</td>\n      <td>2.8</td>\n      <td>5.4</td>\n      <td>NaN</td>\n      <td>DZA</td>\n      <td>11.996</td>\n      <td>41.900000</td>\n    </tr>\n    <tr>\n      <th>3</th>\n      <td>156</td>\n      <td>Angola</td>\n      <td>NaN</td>\n      <td>3.4</td>\n      <td>8.1</td>\n      <td>6.7</td>\n      <td>8.8</td>\n      <td>4</td>\n      <td>6.5</td>\n      <td>5.0</td>\n      <td>6.8</td>\n      <td>3.0</td>\n      <td>5.6</td>\n      <td>3.2</td>\n      <td>5.7</td>\n      <td>NaN</td>\n      <td>AGO</td>\n      <td>7.139</td>\n      <td>NaN</td>\n    </tr>\n    <tr>\n      <th>4</th>\n      <td>46</td>\n      <td>Argentina</td>\n      <td>6.086</td>\n      <td>5.7</td>\n      <td>8.8</td>\n      <td>10.0</td>\n      <td>7.8</td>\n      <td>7.5</td>\n      <td>8.7</td>\n      <td>10.0</td>\n      <td>5.7</td>\n      <td>4.0</td>\n      <td>6.5</td>\n      <td>6.5</td>\n      <td>5.6</td>\n      <td>NaN</td>\n      <td>ARG</td>\n      <td>8.347</td>\n      <td>NaN</td>\n    </tr>\n  </tbody>\n</table>\n</div>",
      "text/plain": "   Unnamed: 0         name  Happiness_score  pf_rol  pf_ss  pf_movement  \\\n0         153  Afghanistan            3.203     NaN    NaN          NaN   \n1         106      Albania            4.719     5.3    9.3         10.0   \n2          87      Algeria            5.211     3.8    7.8          5.8   \n3         156       Angola              NaN     3.4    8.1          6.7   \n4          46    Argentina            6.086     5.7    8.8         10.0   \n\n  pf_religion pf_association  pf_expression  pf_identity  ef_government  \\\n0         NaN            NaN            NaN          NaN            NaN   \n1         9.2             10            8.6          5.8            7.5   \n2         4.9              5            7.3          0.0            3.6   \n3         8.8              4            6.5          5.0            6.8   \n4         7.8            7.5            8.7         10.0            5.7   \n\n   ef_legal  ef_money  ef_trade  ef_regulation  id Country Code    2017  \\\n0       NaN       NaN       NaN            NaN NaN          AFG   1.559   \n1       5.1       9.6       8.3            7.8 NaN          ALB  13.750   \n2       4.7       7.3       2.8            5.4 NaN          DZA  11.996   \n3       3.0       5.6       3.2            5.7 NaN          AGO   7.139   \n4       4.0       6.5       6.5            5.6 NaN          ARG   8.347   \n\n       Hours  \n0        NaN  \n1  38.837518  \n2  41.900000  \n3        NaN  \n4        NaN  "
     },
     "execution_count": 9,
     "metadata": {},
     "output_type": "execute_result"
    }
   ],
   "source": [
    "data.head()"
   ]
  },
  {
   "cell_type": "code",
   "execution_count": 11,
   "metadata": {},
   "outputs": [
    {
     "data": {
      "text/html": "<div>\n<style scoped>\n    .dataframe tbody tr th:only-of-type {\n        vertical-align: middle;\n    }\n\n    .dataframe tbody tr th {\n        vertical-align: top;\n    }\n\n    .dataframe thead th {\n        text-align: right;\n    }\n</style>\n<table border=\"1\" class=\"dataframe\">\n  <thead>\n    <tr style=\"text-align: right;\">\n      <th></th>\n      <th>id_x</th>\n      <th>name</th>\n      <th>Unnamed: 0</th>\n      <th>Happiness_score</th>\n      <th>pf_rol</th>\n      <th>pf_ss</th>\n      <th>pf_movement</th>\n      <th>pf_religion</th>\n      <th>pf_association</th>\n      <th>pf_expression</th>\n      <th>pf_identity</th>\n      <th>ef_government</th>\n      <th>ef_legal</th>\n      <th>ef_money</th>\n      <th>ef_trade</th>\n      <th>ef_regulation</th>\n      <th>id_y</th>\n      <th>Country Code</th>\n      <th>2017</th>\n      <th>Hours</th>\n    </tr>\n  </thead>\n  <tbody>\n    <tr>\n      <th>0</th>\n      <td>4</td>\n      <td>Afghanistan</td>\n      <td>153</td>\n      <td>3.203</td>\n      <td>NaN</td>\n      <td>NaN</td>\n      <td>NaN</td>\n      <td>NaN</td>\n      <td>NaN</td>\n      <td>NaN</td>\n      <td>NaN</td>\n      <td>NaN</td>\n      <td>NaN</td>\n      <td>NaN</td>\n      <td>NaN</td>\n      <td>NaN</td>\n      <td>NaN</td>\n      <td>AFG</td>\n      <td>1.559</td>\n      <td>NaN</td>\n    </tr>\n    <tr>\n      <th>1</th>\n      <td>8</td>\n      <td>Albania</td>\n      <td>106</td>\n      <td>4.719</td>\n      <td>5.3</td>\n      <td>9.3</td>\n      <td>10.0</td>\n      <td>9.2</td>\n      <td>10</td>\n      <td>8.6</td>\n      <td>5.8</td>\n      <td>7.5</td>\n      <td>5.1</td>\n      <td>9.6</td>\n      <td>8.3</td>\n      <td>7.8</td>\n      <td>NaN</td>\n      <td>ALB</td>\n      <td>13.750</td>\n      <td>38.837518</td>\n    </tr>\n    <tr>\n      <th>2</th>\n      <td>12</td>\n      <td>Algeria</td>\n      <td>87</td>\n      <td>5.211</td>\n      <td>3.8</td>\n      <td>7.8</td>\n      <td>5.8</td>\n      <td>4.9</td>\n      <td>5</td>\n      <td>7.3</td>\n      <td>0.0</td>\n      <td>3.6</td>\n      <td>4.7</td>\n      <td>7.3</td>\n      <td>2.8</td>\n      <td>5.4</td>\n      <td>NaN</td>\n      <td>DZA</td>\n      <td>11.996</td>\n      <td>41.900000</td>\n    </tr>\n    <tr>\n      <th>3</th>\n      <td>24</td>\n      <td>Angola</td>\n      <td>156</td>\n      <td>NaN</td>\n      <td>3.4</td>\n      <td>8.1</td>\n      <td>6.7</td>\n      <td>8.8</td>\n      <td>4</td>\n      <td>6.5</td>\n      <td>5.0</td>\n      <td>6.8</td>\n      <td>3.0</td>\n      <td>5.6</td>\n      <td>3.2</td>\n      <td>5.7</td>\n      <td>NaN</td>\n      <td>AGO</td>\n      <td>7.139</td>\n      <td>NaN</td>\n    </tr>\n    <tr>\n      <th>4</th>\n      <td>32</td>\n      <td>Argentina</td>\n      <td>46</td>\n      <td>6.086</td>\n      <td>5.7</td>\n      <td>8.8</td>\n      <td>10.0</td>\n      <td>7.8</td>\n      <td>7.5</td>\n      <td>8.7</td>\n      <td>10.0</td>\n      <td>5.7</td>\n      <td>4.0</td>\n      <td>6.5</td>\n      <td>6.5</td>\n      <td>5.6</td>\n      <td>NaN</td>\n      <td>ARG</td>\n      <td>8.347</td>\n      <td>NaN</td>\n    </tr>\n  </tbody>\n</table>\n</div>",
      "text/plain": "   id_x         name  Unnamed: 0  Happiness_score  pf_rol  pf_ss  pf_movement  \\\n0     4  Afghanistan         153            3.203     NaN    NaN          NaN   \n1     8      Albania         106            4.719     5.3    9.3         10.0   \n2    12      Algeria          87            5.211     3.8    7.8          5.8   \n3    24       Angola         156              NaN     3.4    8.1          6.7   \n4    32    Argentina          46            6.086     5.7    8.8         10.0   \n\n  pf_religion pf_association  pf_expression  pf_identity  ef_government  \\\n0         NaN            NaN            NaN          NaN            NaN   \n1         9.2             10            8.6          5.8            7.5   \n2         4.9              5            7.3          0.0            3.6   \n3         8.8              4            6.5          5.0            6.8   \n4         7.8            7.5            8.7         10.0            5.7   \n\n   ef_legal  ef_money  ef_trade  ef_regulation  id_y Country Code    2017  \\\n0       NaN       NaN       NaN            NaN   NaN          AFG   1.559   \n1       5.1       9.6       8.3            7.8   NaN          ALB  13.750   \n2       4.7       7.3       2.8            5.4   NaN          DZA  11.996   \n3       3.0       5.6       3.2            5.7   NaN          AGO   7.139   \n4       4.0       6.5       6.5            5.6   NaN          ARG   8.347   \n\n       Hours  \n0        NaN  \n1  38.837518  \n2  41.900000  \n3        NaN  \n4        NaN  "
     },
     "execution_count": 11,
     "metadata": {},
     "output_type": "execute_result"
    }
   ],
   "source": [
    "df3 = pd.merge(names, data, on=\"name\")\n",
    "df3.head()\n"
   ]
  },
  {
   "cell_type": "code",
   "execution_count": 18,
   "metadata": {},
   "outputs": [],
   "source": [
    "df = df3.loc[:, ['id_x','name', 'Happiness_score','Country Code','2017','Hours']]\n"
   ]
  },
  {
   "cell_type": "code",
   "execution_count": 23,
   "metadata": {},
   "outputs": [
    {
     "data": {
      "text/html": "<div>\n<style scoped>\n    .dataframe tbody tr th:only-of-type {\n        vertical-align: middle;\n    }\n\n    .dataframe tbody tr th {\n        vertical-align: top;\n    }\n\n    .dataframe thead th {\n        text-align: right;\n    }\n</style>\n<table border=\"1\" class=\"dataframe\">\n  <thead>\n    <tr style=\"text-align: right;\">\n      <th></th>\n      <th>id</th>\n      <th>name</th>\n      <th>Happiness_score</th>\n      <th>Country Code</th>\n      <th>2017</th>\n      <th>Hours</th>\n    </tr>\n  </thead>\n  <tbody>\n    <tr>\n      <th>0</th>\n      <td>4</td>\n      <td>Afghanistan</td>\n      <td>3.203</td>\n      <td>AFG</td>\n      <td>1.559</td>\n      <td>NaN</td>\n    </tr>\n    <tr>\n      <th>1</th>\n      <td>8</td>\n      <td>Albania</td>\n      <td>4.719</td>\n      <td>ALB</td>\n      <td>13.750</td>\n      <td>38.837518</td>\n    </tr>\n    <tr>\n      <th>2</th>\n      <td>12</td>\n      <td>Algeria</td>\n      <td>5.211</td>\n      <td>DZA</td>\n      <td>11.996</td>\n      <td>41.900000</td>\n    </tr>\n    <tr>\n      <th>3</th>\n      <td>24</td>\n      <td>Angola</td>\n      <td>NaN</td>\n      <td>AGO</td>\n      <td>7.139</td>\n      <td>NaN</td>\n    </tr>\n    <tr>\n      <th>4</th>\n      <td>32</td>\n      <td>Argentina</td>\n      <td>6.086</td>\n      <td>ARG</td>\n      <td>8.347</td>\n      <td>NaN</td>\n    </tr>\n    <tr>\n      <th>...</th>\n      <td>...</td>\n      <td>...</td>\n      <td>...</td>\n      <td>...</td>\n      <td>...</td>\n      <td>...</td>\n    </tr>\n    <tr>\n      <th>149</th>\n      <td>862</td>\n      <td>Venezuela</td>\n      <td>4.707</td>\n      <td>NaN</td>\n      <td>NaN</td>\n      <td>NaN</td>\n    </tr>\n    <tr>\n      <th>150</th>\n      <td>704</td>\n      <td>Vietnam</td>\n      <td>5.175</td>\n      <td>VNM</td>\n      <td>1.886</td>\n      <td>NaN</td>\n    </tr>\n    <tr>\n      <th>151</th>\n      <td>887</td>\n      <td>Yemen</td>\n      <td>3.380</td>\n      <td>NaN</td>\n      <td>NaN</td>\n      <td>43.250100</td>\n    </tr>\n    <tr>\n      <th>152</th>\n      <td>894</td>\n      <td>Zambia</td>\n      <td>4.107</td>\n      <td>ZMB</td>\n      <td>7.206</td>\n      <td>40.773100</td>\n    </tr>\n    <tr>\n      <th>153</th>\n      <td>716</td>\n      <td>Zimbabwe</td>\n      <td>3.663</td>\n      <td>ZWE</td>\n      <td>4.943</td>\n      <td>37.804900</td>\n    </tr>\n  </tbody>\n</table>\n<p>154 rows × 6 columns</p>\n</div>",
      "text/plain": "      id         name  Happiness_score Country Code    2017      Hours\n0      4  Afghanistan            3.203          AFG   1.559        NaN\n1      8      Albania            4.719          ALB  13.750  38.837518\n2     12      Algeria            5.211          DZA  11.996  41.900000\n3     24       Angola              NaN          AGO   7.139        NaN\n4     32    Argentina            6.086          ARG   8.347        NaN\n..   ...          ...              ...          ...     ...        ...\n149  862    Venezuela            4.707          NaN     NaN        NaN\n150  704      Vietnam            5.175          VNM   1.886        NaN\n151  887        Yemen            3.380          NaN     NaN  43.250100\n152  894       Zambia            4.107          ZMB   7.206  40.773100\n153  716     Zimbabwe            3.663          ZWE   4.943  37.804900\n\n[154 rows x 6 columns]"
     },
     "execution_count": 23,
     "metadata": {},
     "output_type": "execute_result"
    }
   ],
   "source": [
    "df.rename(columns = {'id_x': 'id'})"
   ]
  },
  {
   "cell_type": "code",
   "execution_count": 24,
   "metadata": {},
   "outputs": [],
   "source": [
    "df.to_csv('reformated.csv', index=False)"
   ]
  },
  {
   "cell_type": "code",
   "execution_count": null,
   "metadata": {},
   "outputs": [],
   "source": []
  }
 ]
}